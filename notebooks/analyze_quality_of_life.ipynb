{
 "cells": [
  {
   "cell_type": "markdown",
   "metadata": {},
   "source": [
    "# Patient Quality of Life Score Analysis\n",
    "\n",
    "This notebook aggregates patient responses and calculates quality of life scores."
   ]
  },
  {
   "cell_type": "code",
   "execution_count": null,
   "metadata": {},
   "outputs": [],
   "source": [
    "import sqlite3\n",
    "import pandas as pd\n",
    "import json\n",
    "import matplotlib.pyplot as plt\n",
    "import seaborn as sns\n",
    "\n",
    "# Set style for plots\n",
    "sns.set_style('whitegrid')\n",
    "plt.rcParams['figure.figsize'] = (12, 6)"
   ]
  },
  {
   "cell_type": "markdown",
   "metadata": {},
   "source": [
    "## 1. Connect to Database and Load Data"
   ]
  },
  {
   "cell_type": "code",
   "execution_count": null,
   "metadata": {},
   "outputs": [],
   "source": [
    "# Connect to SQLite database\n",
    "db_path = '../data/patient_portal.db'\n",
    "conn = sqlite3.connect(db_path)\n",
    "\n",
    "# Load patients data\n",
    "patients_df = pd.read_sql_query(\"SELECT * FROM patients\", conn)\n",
    "print(f\"Total patients: {len(patients_df)}\")\n",
    "patients_df.head()"
   ]
  },
  {
   "cell_type": "code",
   "execution_count": null,
   "metadata": {},
   "outputs": [],
   "source": [
    "# Load responses data\n",
    "responses_df = pd.read_sql_query(\"SELECT * FROM responses\", conn)\n",
    "print(f\"Total responses: {len(responses_df)}\")\n",
    "responses_df.head()"
   ]
  },
  {
   "cell_type": "code",
   "execution_count": null,
   "metadata": {},
   "outputs": [],
   "source": [
    "# Load quality of life scores\n",
    "scores_df = pd.read_sql_query(\"\"\"\n",
    "    SELECT q.*, p.name, p.email, p.age\n",
    "    FROM quality_of_life_scores q\n",
    "    JOIN patients p ON q.patient_id = p.id\n",
    "\"\"\", conn)\n",
    "print(f\"Total quality of life scores: {len(scores_df)}\")\n",
    "scores_df.head()"
   ]
  },
  {
   "cell_type": "markdown",
   "metadata": {},
   "source": [
    "## 2. Parse Category Scores"
   ]
  },
  {
   "cell_type": "code",
   "execution_count": null,
   "metadata": {},
   "outputs": [],
   "source": [
    "# Parse JSON category scores\n",
    "def parse_category_scores(row):\n",
    "    try:\n",
    "        return json.loads(row['category_scores'])\n",
    "    except:\n",
    "        return {'physical': 0, 'mental': 0, 'social': 0}\n",
    "\n",
    "scores_df['categories'] = scores_df.apply(parse_category_scores, axis=1)\n",
    "scores_df['physical_score'] = scores_df['categories'].apply(lambda x: x.get('physical', 0))\n",
    "scores_df['mental_score'] = scores_df['categories'].apply(lambda x: x.get('mental', 0))\n",
    "scores_df['social_score'] = scores_df['categories'].apply(lambda x: x.get('social', 0))\n",
    "\n",
    "scores_df[['name', 'total_score', 'physical_score', 'mental_score', 'social_score']].head()"
   ]
  },
  {
   "cell_type": "markdown",
   "metadata": {},
   "source": [
    "## 3. Calculate Summary Statistics"
   ]
  },
  {
   "cell_type": "code",
   "execution_count": null,
   "metadata": {},
   "outputs": [],
   "source": [
    "# Overall statistics\n",
    "print(\"\\n=== Quality of Life Score Statistics ===\")\n",
    "print(f\"Mean Total Score: {scores_df['total_score'].mean():.2f}\")\n",
    "print(f\"Median Total Score: {scores_df['total_score'].median():.2f}\")\n",
    "print(f\"Std Dev: {scores_df['total_score'].std():.2f}\")\n",
    "print(f\"Min Score: {scores_df['total_score'].min()}\")\n",
    "print(f\"Max Score: {scores_df['total_score'].max()}\")\n",
    "\n",
    "print(\"\\n=== Category Scores (Mean) ===\")\n",
    "print(f\"Physical Health: {scores_df['physical_score'].mean():.2f}\")\n",
    "print(f\"Mental Well-being: {scores_df['mental_score'].mean():.2f}\")\n",
    "print(f\"Social Relationships: {scores_df['social_score'].mean():.2f}\")"
   ]
  },
  {
   "cell_type": "markdown",
   "metadata": {},
   "source": [
    "## 4. Visualize Quality of Life Scores"
   ]
  },
  {
   "cell_type": "code",
   "execution_count": null,
   "metadata": {},
   "outputs": [],
   "source": [
    "# Distribution of total scores\n",
    "plt.figure(figsize=(12, 5))\n",
    "\n",
    "plt.subplot(1, 2, 1)\n",
    "plt.hist(scores_df['total_score'], bins=20, color='skyblue', edgecolor='black')\n",
    "plt.xlabel('Total Quality of Life Score')\n",
    "plt.ylabel('Frequency')\n",
    "plt.title('Distribution of Quality of Life Scores')\n",
    "plt.axvline(scores_df['total_score'].mean(), color='red', linestyle='--', label=f\"Mean: {scores_df['total_score'].mean():.2f}\")\n",
    "plt.legend()\n",
    "\n",
    "plt.subplot(1, 2, 2)\n",
    "plt.boxplot(scores_df['total_score'])\n",
    "plt.ylabel('Total Quality of Life Score')\n",
    "plt.title('Box Plot of Quality of Life Scores')\n",
    "\n",
    "plt.tight_layout()\n",
    "plt.show()"
   ]
  },
  {
   "cell_type": "code",
   "execution_count": null,
   "metadata": {},
   "outputs": [],
   "source": [
    "# Category scores comparison\n",
    "category_means = {\n",
    "    'Physical': scores_df['physical_score'].mean(),\n",
    "    'Mental': scores_df['mental_score'].mean(),\n",
    "    'Social': scores_df['social_score'].mean()\n",
    "}\n",
    "\n",
    "plt.figure(figsize=(10, 6))\n",
    "plt.bar(category_means.keys(), category_means.values(), color=['#1976d2', '#7b1fa2', '#388e3c'])\n",
    "plt.xlabel('Category')\n",
    "plt.ylabel('Average Score')\n",
    "plt.title('Average Quality of Life Scores by Category')\n",
    "plt.ylim(0, max(category_means.values()) * 1.2)\n",
    "for i, (k, v) in enumerate(category_means.items()):\n",
    "    plt.text(i, v + 0.5, f'{v:.2f}', ha='center', va='bottom', fontweight='bold')\n",
    "plt.show()"
   ]
  },
  {
   "cell_type": "markdown",
   "metadata": {},
   "source": [
    "## 5. Age-Based Analysis"
   ]
  },
  {
   "cell_type": "code",
   "execution_count": null,
   "metadata": {},
   "outputs": [],
   "source": [
    "# Create age groups\n",
    "scores_df['age_group'] = pd.cut(scores_df['age'], \n",
    "                                  bins=[0, 30, 50, 70, 120], \n",
    "                                  labels=['18-30', '31-50', '51-70', '70+'])\n",
    "\n",
    "# Group by age and calculate mean scores\n",
    "age_analysis = scores_df.groupby('age_group').agg({\n",
    "    'total_score': 'mean',\n",
    "    'physical_score': 'mean',\n",
    "    'mental_score': 'mean',\n",
    "    'social_score': 'mean'\n",
    "}).round(2)\n",
    "\n",
    "print(\"\\n=== Quality of Life by Age Group ===\")\n",
    "print(age_analysis)"
   ]
  },
  {
   "cell_type": "code",
   "execution_count": null,
   "metadata": {},
   "outputs": [],
   "source": [
    "# Visualize age-based analysis\n",
    "age_analysis.plot(kind='bar', figsize=(12, 6))\n",
    "plt.xlabel('Age Group')\n",
    "plt.ylabel('Average Score')\n",
    "plt.title('Quality of Life Scores by Age Group and Category')\n",
    "plt.legend(['Total', 'Physical', 'Mental', 'Social'])\n",
    "plt.xticks(rotation=45)\n",
    "plt.tight_layout()\n",
    "plt.show()"
   ]
  },
  {
   "cell_type": "markdown",
   "metadata": {},
   "source": [
    "## 6. Individual Patient Analysis"
   ]
  },
  {
   "cell_type": "code",
   "execution_count": null,
   "metadata": {},
   "outputs": [],
   "source": [
    "# Function to analyze individual patient\n",
    "def analyze_patient(patient_id):\n",
    "    patient = scores_df[scores_df['patient_id'] == patient_id].iloc[0]\n",
    "    \n",
    "    print(f\"\\n=== Patient Analysis ===\")\n",
    "    print(f\"Name: {patient['name']}\")\n",
    "    print(f\"Age: {patient['age']}\")\n",
    "    print(f\"\\nScores:\")\n",
    "    print(f\"  Total: {patient['total_score']}\")\n",
    "    print(f\"  Physical: {patient['physical_score']}\")\n",
    "    print(f\"  Mental: {patient['mental_score']}\")\n",
    "    print(f\"  Social: {patient['social_score']}\")\n",
    "    \n",
    "    # Radar chart\n",
    "    categories = ['Physical', 'Mental', 'Social']\n",
    "    values = [patient['physical_score'], patient['mental_score'], patient['social_score']]\n",
    "    \n",
    "    angles = [n / float(len(categories)) * 2 * 3.14159 for n in range(len(categories))]\n",
    "    values += values[:1]\n",
    "    angles += angles[:1]\n",
    "    \n",
    "    fig, ax = plt.subplots(figsize=(8, 8), subplot_kw=dict(projection='polar'))\n",
    "    ax.plot(angles, values, 'o-', linewidth=2, label=patient['name'])\n",
    "    ax.fill(angles, values, alpha=0.25)\n",
    "    ax.set_xticks(angles[:-1])\n",
    "    ax.set_xticklabels(categories)\n",
    "    ax.set_ylim(0, 15)\n",
    "    ax.set_title(f\"Quality of Life Profile - {patient['name']}\", size=16, pad=20)\n",
    "    plt.legend(loc='upper right')\n",
    "    plt.show()\n",
    "\n",
    "# Example: analyze first patient (if exists)\n",
    "if len(scores_df) > 0:\n",
    "    analyze_patient(scores_df.iloc[0]['patient_id'])"
   ]
  },
  {
   "cell_type": "markdown",
   "metadata": {},
   "source": [
    "## 7. Export Summary Report"
   ]
  },
  {
   "cell_type": "code",
   "execution_count": null,
   "metadata": {},
   "outputs": [],
   "source": [
    "# Create summary report\n",
    "summary_report = scores_df[['name', 'age', 'total_score', 'physical_score', 'mental_score', 'social_score', 'calculated_at']].copy()\n",
    "summary_report.columns = ['Name', 'Age', 'Total Score', 'Physical', 'Mental', 'Social', 'Date']\n",
    "\n",
    "# Save to CSV\n",
    "output_path = '../data/quality_of_life_report.csv'\n",
    "summary_report.to_csv(output_path, index=False)\n",
    "print(f\"\\nSummary report saved to: {output_path}\")\n",
    "summary_report"
   ]
  },
  {
   "cell_type": "code",
   "execution_count": null,
   "metadata": {},
   "outputs": [],
   "source": [
    "# Close database connection\n",
    "conn.close()\n",
    "print(\"\\nDatabase connection closed.\")"
   ]
  }
 ],
 "metadata": {
  "kernelspec": {
   "display_name": "Python 3",
   "language": "python",
   "name": "python3"
  },
  "language_info": {
   "codemirror_mode": {
    "name": "ipython",
    "version": 3
   },
   "file_extension": ".py",
   "mimetype": "text/x-python",
   "name": "python",
   "nbconvert_exporter": "python",
   "pygments_lexer": "ipython3",
   "version": "3.8.0"
  }
 },
 "nbformat": 4,
 "nbformat_minor": 4
}
